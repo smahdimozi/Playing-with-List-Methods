{
 "cells": [
  {
   "cell_type": "code",
   "execution_count": 15,
   "id": "325e6082-b84f-495c-b680-a86fc4a9e1ae",
   "metadata": {},
   "outputs": [],
   "source": [
    "mehdi_list = []"
   ]
  },
  {
   "cell_type": "code",
   "execution_count": 19,
   "id": "2ff70a3e-a085-4830-9d3e-2651ff1a74e3",
   "metadata": {},
   "outputs": [],
   "source": [
    "mehdi_list.append('kasra')"
   ]
  },
  {
   "cell_type": "code",
   "execution_count": 21,
   "id": "c041008f-1162-4166-9882-247ad671a3e8",
   "metadata": {},
   "outputs": [
    {
     "data": {
      "text/plain": [
       "['kasra']"
      ]
     },
     "execution_count": 21,
     "metadata": {},
     "output_type": "execute_result"
    }
   ],
   "source": [
    "mehdi_list"
   ]
  },
  {
   "cell_type": "code",
   "execution_count": 70,
   "id": "b20a67d1-e125-41ad-b50d-f9f3aaf469ab",
   "metadata": {},
   "outputs": [
    {
     "name": "stdin",
     "output_type": "stream",
     "text": [
      " parsa\n"
     ]
    }
   ],
   "source": [
    "mehdi_list.append(input())"
   ]
  },
  {
   "cell_type": "code",
   "execution_count": 40,
   "id": "dd3de488-58cb-4caa-8212-c5c712d26684",
   "metadata": {},
   "outputs": [
    {
     "data": {
      "text/plain": [
       "['kasra',\n",
       " 'parsa',\n",
       " 'mamreza',\n",
       " '',\n",
       " 'lkjsalkjdas',\n",
       " 'asdlasdklsad',\n",
       " 'asmdlkmasld',\n",
       " 'asdasdsa']"
      ]
     },
     "execution_count": 40,
     "metadata": {},
     "output_type": "execute_result"
    }
   ],
   "source": [
    "mehdi_list"
   ]
  },
  {
   "cell_type": "code",
   "execution_count": 44,
   "id": "62bdf1b9-a9cd-4731-9f23-a586ca80b3e1",
   "metadata": {},
   "outputs": [],
   "source": [
    "mehdi_list.append(['hosin', 87162, 'ahmegh'])"
   ]
  },
  {
   "cell_type": "code",
   "execution_count": 88,
   "id": "34fe3392-305c-4f74-a14e-809b466a8eff",
   "metadata": {},
   "outputs": [
    {
     "data": {
      "text/plain": [
       "['kasra',\n",
       " 'parsa',\n",
       " 'mamreza',\n",
       " '',\n",
       " 'lkjsalkjdas',\n",
       " 'asdlasdklsad',\n",
       " 'asmdlkmasld',\n",
       " 'asdasdsa',\n",
       " ['hosin', 87162, 'ahmegh'],\n",
       " 'kasra',\n",
       " 'kasra',\n",
       " 'parsa']"
      ]
     },
     "execution_count": 88,
     "metadata": {},
     "output_type": "execute_result"
    }
   ],
   "source": [
    "mehdi_list"
   ]
  },
  {
   "cell_type": "code",
   "execution_count": 52,
   "id": "7504a48f-4e54-473f-98d0-563c98d0325d",
   "metadata": {},
   "outputs": [],
   "source": [
    "new_mehdi_list = mehdi_list.copy()"
   ]
  },
  {
   "cell_type": "code",
   "execution_count": 54,
   "id": "88f7629b-04b6-4f5a-aa34-a3b4e56ed983",
   "metadata": {},
   "outputs": [
    {
     "data": {
      "text/plain": [
       "['kasra',\n",
       " 'parsa',\n",
       " 'mamreza',\n",
       " '',\n",
       " 'lkjsalkjdas',\n",
       " 'asdlasdklsad',\n",
       " 'asmdlkmasld',\n",
       " 'asdasdsa',\n",
       " ['hosin', 87162, 'ahmegh']]"
      ]
     },
     "execution_count": 54,
     "metadata": {},
     "output_type": "execute_result"
    }
   ],
   "source": [
    "new_mehdi_list"
   ]
  },
  {
   "cell_type": "code",
   "execution_count": 72,
   "id": "0eb0b712-bc9d-41b3-a415-26e165e6b85d",
   "metadata": {},
   "outputs": [
    {
     "data": {
      "text/plain": [
       "3"
      ]
     },
     "execution_count": 72,
     "metadata": {},
     "output_type": "execute_result"
    }
   ],
   "source": [
    "mehdi_list.count('kasra')"
   ]
  },
  {
   "cell_type": "code",
   "execution_count": 84,
   "id": "4e465210-925e-479a-b6b1-88b7b4ca3ca6",
   "metadata": {},
   "outputs": [
    {
     "data": {
      "text/plain": [
       "0"
      ]
     },
     "execution_count": 84,
     "metadata": {},
     "output_type": "execute_result"
    }
   ],
   "source": [
    "mehdi_list.index('kasra')"
   ]
  },
  {
   "cell_type": "code",
   "execution_count": 86,
   "id": "a296bd06-8253-4833-ba6e-66d66ce37173",
   "metadata": {},
   "outputs": [
    {
     "data": {
      "text/plain": [
       "9"
      ]
     },
     "execution_count": 86,
     "metadata": {},
     "output_type": "execute_result"
    }
   ],
   "source": [
    "mehdi_list.index('kasra', 3)"
   ]
  },
  {
   "cell_type": "code",
   "execution_count": 98,
   "id": "65cce433-f463-41da-8fb8-9988b46b64a3",
   "metadata": {},
   "outputs": [
    {
     "ename": "ValueError",
     "evalue": "'kasra' is not in list",
     "output_type": "error",
     "traceback": [
      "\u001b[1;31m---------------------------------------------------------------------------\u001b[0m",
      "\u001b[1;31mValueError\u001b[0m                                Traceback (most recent call last)",
      "Cell \u001b[1;32mIn[98], line 1\u001b[0m\n\u001b[1;32m----> 1\u001b[0m mehdi_list\u001b[38;5;241m.\u001b[39mindex(\u001b[38;5;124m'\u001b[39m\u001b[38;5;124mkasra\u001b[39m\u001b[38;5;124m'\u001b[39m, \u001b[38;5;241m2\u001b[39m, \u001b[38;5;241m9\u001b[39m)\n",
      "\u001b[1;31mValueError\u001b[0m: 'kasra' is not in list"
     ]
    }
   ],
   "source": [
    "mehdi_list.index('kasra', 2, 9)"
   ]
  },
  {
   "cell_type": "code",
   "execution_count": 100,
   "id": "af085855-a298-487f-b3c6-b0388bcc6830",
   "metadata": {},
   "outputs": [],
   "source": [
    "mehdi_list.insert(0 , 'homa')"
   ]
  },
  {
   "cell_type": "code",
   "execution_count": 102,
   "id": "402ad3ce-d471-4a10-a203-2cf12a35c138",
   "metadata": {},
   "outputs": [
    {
     "data": {
      "text/plain": [
       "['homa',\n",
       " 'kasra',\n",
       " 'parsa',\n",
       " 'mamreza',\n",
       " '',\n",
       " 'lkjsalkjdas',\n",
       " 'asdlasdklsad',\n",
       " 'asmdlkmasld',\n",
       " 'asdasdsa',\n",
       " ['hosin', 87162, 'ahmegh'],\n",
       " 'kasra',\n",
       " 'kasra',\n",
       " 'parsa']"
      ]
     },
     "execution_count": 102,
     "metadata": {},
     "output_type": "execute_result"
    }
   ],
   "source": [
    "mehdi_list"
   ]
  },
  {
   "cell_type": "code",
   "execution_count": 106,
   "id": "e537e9a9-b45b-4aca-86b5-9890c6b06c3d",
   "metadata": {},
   "outputs": [
    {
     "name": "stdin",
     "output_type": "stream",
     "text": [
      " 911\n"
     ]
    }
   ],
   "source": [
    "mehdi_list.insert(0 , input())"
   ]
  },
  {
   "cell_type": "code",
   "execution_count": 108,
   "id": "ce7200e1-1a1b-46a9-b89b-78040d6d2cb9",
   "metadata": {},
   "outputs": [
    {
     "data": {
      "text/plain": [
       "['911',\n",
       " '911',\n",
       " 'homa',\n",
       " 'kasra',\n",
       " 'parsa',\n",
       " 'mamreza',\n",
       " '',\n",
       " 'lkjsalkjdas',\n",
       " 'asdlasdklsad',\n",
       " 'asmdlkmasld',\n",
       " 'asdasdsa',\n",
       " ['hosin', 87162, 'ahmegh'],\n",
       " 'kasra',\n",
       " 'kasra',\n",
       " 'parsa']"
      ]
     },
     "execution_count": 108,
     "metadata": {},
     "output_type": "execute_result"
    }
   ],
   "source": [
    "mehdi_list"
   ]
  },
  {
   "cell_type": "code",
   "execution_count": 138,
   "id": "fb6051ad-8494-413c-aa9d-26511a611ed8",
   "metadata": {},
   "outputs": [
    {
     "ename": "TypeError",
     "evalue": "sort() takes no positional arguments",
     "output_type": "error",
     "traceback": [
      "\u001b[1;31m---------------------------------------------------------------------------\u001b[0m",
      "\u001b[1;31mTypeError\u001b[0m                                 Traceback (most recent call last)",
      "Cell \u001b[1;32mIn[138], line 1\u001b[0m\n\u001b[1;32m----> 1\u001b[0m mehdi_list\u001b[38;5;241m.\u001b[39msort(\u001b[38;5;241m2\u001b[39m)\n",
      "\u001b[1;31mTypeError\u001b[0m: sort() takes no positional arguments"
     ]
    }
   ],
   "source": [
    "mehdi_list.sort()"
   ]
  },
  {
   "cell_type": "code",
   "execution_count": 176,
   "id": "58b0919e-576b-4b43-9276-d19a2a414d31",
   "metadata": {},
   "outputs": [],
   "source": [
    "\n",
    "def myFunc(e):\n",
    "  return len(e)\n",
    "\n",
    "cars = ['Ford', 'Mitsubishi', 'BMW', 'VW']\n",
    "\n",
    "cars.sort(key=myFunc)"
   ]
  },
  {
   "cell_type": "code",
   "execution_count": 178,
   "id": "86913471-b705-431a-b5fb-128699c58004",
   "metadata": {},
   "outputs": [
    {
     "data": {
      "text/plain": [
       "['VW', 'BMW', 'Ford', 'Mitsubishi']"
      ]
     },
     "execution_count": 178,
     "metadata": {},
     "output_type": "execute_result"
    }
   ],
   "source": [
    "cars"
   ]
  },
  {
   "cell_type": "code",
   "execution_count": 180,
   "id": "39883218-5968-4ca8-951f-bdac49fd3813",
   "metadata": {},
   "outputs": [],
   "source": [
    "\n",
    "def myFunc(e):\n",
    "  return ascii(e)\n",
    "\n",
    "cars = ['Ford', 'Mitsubishi', 'BMW', 'VW']\n",
    "\n",
    "cars.sort(key=myFunc)"
   ]
  },
  {
   "cell_type": "code",
   "execution_count": 182,
   "id": "2c23f943-ef69-4432-85c2-2990d46971ba",
   "metadata": {},
   "outputs": [
    {
     "data": {
      "text/plain": [
       "['BMW', 'Ford', 'Mitsubishi', 'VW']"
      ]
     },
     "execution_count": 182,
     "metadata": {},
     "output_type": "execute_result"
    }
   ],
   "source": [
    "cars"
   ]
  },
  {
   "cell_type": "code",
   "execution_count": 184,
   "id": "1a2e7869-0c9a-4a5b-8b61-d65a601dc05c",
   "metadata": {},
   "outputs": [],
   "source": [
    "\n",
    "def myFunc(e):\n",
    "  return ascii(e)\n",
    "\n",
    "cars = ['Ford', 'Mitsubishi', 'BMW', 'VW']\n",
    "\n",
    "cars.sort(key=myFunc, reverse=True)"
   ]
  },
  {
   "cell_type": "code",
   "execution_count": 186,
   "id": "c007f0cb-5ea4-4a5a-8603-acb9b8960bac",
   "metadata": {},
   "outputs": [
    {
     "data": {
      "text/plain": [
       "['VW', 'Mitsubishi', 'Ford', 'BMW']"
      ]
     },
     "execution_count": 186,
     "metadata": {},
     "output_type": "execute_result"
    }
   ],
   "source": [
    "cars"
   ]
  },
  {
   "cell_type": "code",
   "execution_count": 188,
   "id": "2a6f4fe3-b645-4d2f-9252-19f346a5b948",
   "metadata": {},
   "outputs": [],
   "source": [
    "mehdi_list.reverse()"
   ]
  },
  {
   "cell_type": "code",
   "execution_count": 190,
   "id": "00b960ea-8928-49a5-91a6-cb8562d1fc42",
   "metadata": {},
   "outputs": [
    {
     "data": {
      "text/plain": [
       "['parsa',\n",
       " 'kasra',\n",
       " 'kasra',\n",
       " ['hosin', 87162, 'ahmegh'],\n",
       " 'asdasdsa',\n",
       " 'asmdlkmasld',\n",
       " 'asdlasdklsad',\n",
       " 'lkjsalkjdas',\n",
       " '',\n",
       " 'mamreza',\n",
       " 'parsa',\n",
       " 'kasra',\n",
       " 'homa',\n",
       " '911',\n",
       " '911']"
      ]
     },
     "execution_count": 190,
     "metadata": {},
     "output_type": "execute_result"
    }
   ],
   "source": [
    "mehdi_list"
   ]
  },
  {
   "cell_type": "code",
   "execution_count": 196,
   "id": "a33b461e-6a78-4730-a42d-f6d6df220351",
   "metadata": {},
   "outputs": [
    {
     "data": {
      "text/plain": [
       "['hosin', 87162, 'ahmegh']"
      ]
     },
     "execution_count": 196,
     "metadata": {},
     "output_type": "execute_result"
    }
   ],
   "source": [
    "mehdi_list.pop(3)"
   ]
  },
  {
   "cell_type": "code",
   "execution_count": 198,
   "id": "379c8d99-1044-424e-901a-9f34fa56cdf5",
   "metadata": {},
   "outputs": [
    {
     "data": {
      "text/plain": [
       "['parsa',\n",
       " 'kasra',\n",
       " 'kasra',\n",
       " 'asdasdsa',\n",
       " 'asmdlkmasld',\n",
       " 'asdlasdklsad',\n",
       " 'lkjsalkjdas',\n",
       " '',\n",
       " 'mamreza',\n",
       " 'parsa',\n",
       " 'kasra',\n",
       " '911',\n",
       " '911']"
      ]
     },
     "execution_count": 198,
     "metadata": {},
     "output_type": "execute_result"
    }
   ],
   "source": [
    "mehdi_list"
   ]
  },
  {
   "cell_type": "code",
   "execution_count": 200,
   "id": "3258c97b-702b-4ac3-8524-0059555ef829",
   "metadata": {},
   "outputs": [
    {
     "data": {
      "text/plain": [
       "'911'"
      ]
     },
     "execution_count": 200,
     "metadata": {},
     "output_type": "execute_result"
    }
   ],
   "source": [
    "mehdi_list.pop()"
   ]
  },
  {
   "cell_type": "code",
   "execution_count": 202,
   "id": "904bc59a-26a8-42fd-8b25-0f22bf6b1c10",
   "metadata": {},
   "outputs": [
    {
     "data": {
      "text/plain": [
       "['parsa',\n",
       " 'kasra',\n",
       " 'kasra',\n",
       " 'asdasdsa',\n",
       " 'asmdlkmasld',\n",
       " 'asdlasdklsad',\n",
       " 'lkjsalkjdas',\n",
       " '',\n",
       " 'mamreza',\n",
       " 'parsa',\n",
       " 'kasra',\n",
       " '911']"
      ]
     },
     "execution_count": 202,
     "metadata": {},
     "output_type": "execute_result"
    }
   ],
   "source": [
    "mehdi_list"
   ]
  },
  {
   "cell_type": "code",
   "execution_count": 206,
   "id": "7931a3d0-9892-48ee-b1dd-d9be5103fd8b",
   "metadata": {},
   "outputs": [],
   "source": [
    "mehdi_list.remove('mamreza')"
   ]
  },
  {
   "cell_type": "code",
   "execution_count": 208,
   "id": "74a371a6-25ec-4c2e-9b76-61ced6e5b15d",
   "metadata": {},
   "outputs": [
    {
     "data": {
      "text/plain": [
       "['parsa',\n",
       " 'kasra',\n",
       " 'kasra',\n",
       " 'asdasdsa',\n",
       " 'asmdlkmasld',\n",
       " 'asdlasdklsad',\n",
       " 'lkjsalkjdas',\n",
       " '',\n",
       " 'parsa',\n",
       " 'kasra',\n",
       " '911']"
      ]
     },
     "execution_count": 208,
     "metadata": {},
     "output_type": "execute_result"
    }
   ],
   "source": [
    "mehdi_list"
   ]
  },
  {
   "cell_type": "code",
   "execution_count": 210,
   "id": "6a042ae5-33fc-4ea6-bf72-9380d45664a3",
   "metadata": {},
   "outputs": [],
   "source": [
    "mehdi_list.clear()"
   ]
  },
  {
   "cell_type": "code",
   "execution_count": 212,
   "id": "d7a7b435-5030-474e-b26a-75d0d4d30abd",
   "metadata": {},
   "outputs": [
    {
     "data": {
      "text/plain": [
       "[]"
      ]
     },
     "execution_count": 212,
     "metadata": {},
     "output_type": "execute_result"
    }
   ],
   "source": [
    "mehdi_list"
   ]
  },
  {
   "cell_type": "code",
   "execution_count": 7,
   "id": "6e146551-6056-4c1a-b129-8998ff70697f",
   "metadata": {},
   "outputs": [
    {
     "data": {
      "text/plain": [
       "['__add__',\n",
       " '__class__',\n",
       " '__class_getitem__',\n",
       " '__contains__',\n",
       " '__delattr__',\n",
       " '__delitem__',\n",
       " '__dir__',\n",
       " '__doc__',\n",
       " '__eq__',\n",
       " '__format__',\n",
       " '__ge__',\n",
       " '__getattribute__',\n",
       " '__getitem__',\n",
       " '__getstate__',\n",
       " '__gt__',\n",
       " '__hash__',\n",
       " '__iadd__',\n",
       " '__imul__',\n",
       " '__init__',\n",
       " '__init_subclass__',\n",
       " '__iter__',\n",
       " '__le__',\n",
       " '__len__',\n",
       " '__lt__',\n",
       " '__mul__',\n",
       " '__ne__',\n",
       " '__new__',\n",
       " '__reduce__',\n",
       " '__reduce_ex__',\n",
       " '__repr__',\n",
       " '__reversed__',\n",
       " '__rmul__',\n",
       " '__setattr__',\n",
       " '__setitem__',\n",
       " '__sizeof__',\n",
       " '__str__',\n",
       " '__subclasshook__',\n",
       " 'append',\n",
       " 'clear',\n",
       " 'copy',\n",
       " 'count',\n",
       " 'extend',\n",
       " 'index',\n",
       " 'insert',\n",
       " 'pop',\n",
       " 'remove',\n",
       " 'reverse',\n",
       " 'sort']"
      ]
     },
     "execution_count": 7,
     "metadata": {},
     "output_type": "execute_result"
    }
   ],
   "source": [
    "dir(mehdi_list)"
   ]
  },
  {
   "cell_type": "code",
   "execution_count": null,
   "id": "acaa6424-28e7-4475-97d8-197076a8d9c0",
   "metadata": {},
   "outputs": [],
   "source": []
  }
 ],
 "metadata": {
  "kernelspec": {
   "display_name": "Python [conda env:base] *",
   "language": "python",
   "name": "conda-base-py"
  },
  "language_info": {
   "codemirror_mode": {
    "name": "ipython",
    "version": 3
   },
   "file_extension": ".py",
   "mimetype": "text/x-python",
   "name": "python",
   "nbconvert_exporter": "python",
   "pygments_lexer": "ipython3",
   "version": "3.12.7"
  }
 },
 "nbformat": 4,
 "nbformat_minor": 5
}
